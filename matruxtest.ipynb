{
 "cells": [
  {
   "cell_type": "code",
   "execution_count": 39,
   "metadata": {},
   "outputs": [],
   "source": [
    "import sys\n",
    "sys.path.append('../')\n",
    "from library import *\n",
    "import numpy as np\n",
    "import matplotlib.pyplot as plt"
   ]
  },
  {
   "cell_type": "code",
   "execution_count": 4,
   "metadata": {},
   "outputs": [
    {
     "name": "stdout",
     "output_type": "stream",
     "text": [
      "[[25, 36, 95, 88, 77, 12, 15], [26, 95, 36, 10, 11, 18, 48], [95, 99, 46, 77, 35, 79, 16], [54, 68, 39, 78, 46, 67, 15], [44, 22, 89, 61, 30, 85, 19]]\n"
     ]
    }
   ],
   "source": [
    "M =load_matrix('testmatrix.txt')\n",
    "print(M)"
   ]
  },
  {
   "cell_type": "code",
   "execution_count": 12,
   "metadata": {},
   "outputs": [
    {
     "data": {
      "text/plain": [
       "[[25, 26, 95, 54, 44],\n",
       " [36, 95, 99, 68, 22],\n",
       " [95, 36, 46, 39, 89],\n",
       " [88, 10, 77, 78, 61],\n",
       " [77, 11, 35, 46, 30],\n",
       " [12, 18, 79, 67, 85],\n",
       " [15, 48, 16, 15, 19]]"
      ]
     },
     "execution_count": 12,
     "metadata": {},
     "output_type": "execute_result"
    }
   ],
   "source": [
    "transpose_matrix(M)"
   ]
  },
  {
   "cell_type": "code",
   "execution_count": 13,
   "metadata": {},
   "outputs": [
    {
     "data": {
      "text/plain": [
       "False"
      ]
     },
     "execution_count": 13,
     "metadata": {},
     "output_type": "execute_result"
    }
   ],
   "source": [
    "\n",
    "is_symmetric(M)"
   ]
  },
  {
   "cell_type": "code",
   "execution_count": 23,
   "metadata": {},
   "outputs": [],
   "source": []
  },
  {
   "cell_type": "code",
   "execution_count": 19,
   "metadata": {},
   "outputs": [
    {
     "data": {
      "text/plain": [
       "[0, 0, 0, 0, 0]"
      ]
     },
     "execution_count": 19,
     "metadata": {},
     "output_type": "execute_result"
    }
   ],
   "source": [
    "gj_solve(M)"
   ]
  },
  {
   "cell_type": "code",
   "execution_count": 40,
   "metadata": {},
   "outputs": [
    {
     "name": "stdout",
     "output_type": "stream",
     "text": [
      "Solution: [-3.828404407562319, 0.7597366953145779, 0.3939821153435893, 5.870560081918259, -6.047766220892397]\n"
     ]
    }
   ],
   "source": [
    "M = load_matrix('testmatrix.txt')\n",
    "b = [20, -21, -30, 40, 60]\n",
    "\n",
    "solution = gauss_jordan(M, b)\n",
    "if solution:\n",
    "    print(\"Solution:\", solution)\n",
    "else:\n",
    "    print(\"No unique solution\")\n"
   ]
  },
  {
   "cell_type": "code",
   "execution_count": 38,
   "metadata": {},
   "outputs": [
    {
     "name": "stdout",
     "output_type": "stream",
     "text": [
      "Solution: [-3.82840441  0.7597367   0.39398212  5.87056008 -6.04776622]\n"
     ]
    }
   ],
   "source": [
    "# Example usage:\n",
    "M = np.array(load_matrix('testmatrix.txt'))\n",
    "b = np.array([20, -21, -30, 40, 60])\n",
    "\n",
    "solution = solve_lu(M, b)\n",
    "print(\"Solution:\", solution)\n"
   ]
  },
  {
   "cell_type": "code",
   "execution_count": 42,
   "metadata": {},
   "outputs": [
    {
     "data": {
      "text/plain": [
       "(array([[ 1.        ,  0.        ,  0.        ,  0.        ,  0.        ],\n",
       "        [ 1.04      ,  1.        ,  0.        ,  0.        ,  0.        ],\n",
       "        [ 3.8       , -0.65670605,  1.        ,  0.        ,  0.        ],\n",
       "        [ 2.16      , -0.1695622 ,  0.49642921,  1.        ,  0.        ],\n",
       "        [ 1.76      , -0.71855455,  0.34618468, -1.57500535,  1.        ]]),\n",
       " array([[  25.        ,   36.        ,   95.        ,   88.        ,\n",
       "           77.        ],\n",
       "        [   0.        ,   57.56      ,  -62.8       ,  -81.52      ,\n",
       "          -69.08      ],\n",
       "        [   0.        ,    0.        , -356.24113968, -310.93467686,\n",
       "         -302.96525365],\n",
       "        [   0.        ,    0.        ,    0.        ,   28.45434435,\n",
       "           18.36744364],\n",
       "        [   0.        ,    0.        ,    0.        ,    0.        ,\n",
       "          -21.34699624]]))"
      ]
     },
     "execution_count": 42,
     "metadata": {},
     "output_type": "execute_result"
    }
   ],
   "source": [
    "M = np.array(load_matrix('testmatrix.txt'))\n",
    "lu_decomposition(M)"
   ]
  },
  {
   "cell_type": "code",
   "execution_count": 44,
   "metadata": {},
   "outputs": [
    {
     "data": {
      "text/plain": [
       "True"
      ]
     },
     "execution_count": 44,
     "metadata": {},
     "output_type": "execute_result"
    }
   ],
   "source": [
    "M = np.array(load_matrix('testmatrix.txt'))\n",
    "check_for_inverse(M)"
   ]
  },
  {
   "cell_type": "code",
   "execution_count": 46,
   "metadata": {},
   "outputs": [
    {
     "ename": "IndexError",
     "evalue": "list assignment index out of range",
     "output_type": "error",
     "traceback": [
      "\u001b[1;31m---------------------------------------------------------------------------\u001b[0m",
      "\u001b[1;31mIndexError\u001b[0m                                Traceback (most recent call last)",
      "Cell \u001b[1;32mIn [46], line 2\u001b[0m\n\u001b[0;32m      1\u001b[0m M \u001b[38;5;241m=\u001b[39m np\u001b[38;5;241m.\u001b[39marray(load_matrix(\u001b[38;5;124m'\u001b[39m\u001b[38;5;124mtestmatrix.txt\u001b[39m\u001b[38;5;124m'\u001b[39m))\n\u001b[1;32m----> 2\u001b[0m \u001b[43mmatrix_inverse\u001b[49m\u001b[43m(\u001b[49m\u001b[43mM\u001b[49m\u001b[43m)\u001b[49m\n",
      "File \u001b[1;32mc:\\Users\\soham\\PythonWorks\\LearnFolder\\computational_course\\ComputationalCourse\\library\\library.py:252\u001b[0m, in \u001b[0;36mmatrix_inverse\u001b[1;34m(matrix)\u001b[0m\n\u001b[0;32m    250\u001b[0m r \u001b[38;5;241m=\u001b[39m \u001b[38;5;28mlen\u001b[39m(A)\n\u001b[0;32m    251\u001b[0m c \u001b[38;5;241m=\u001b[39m \u001b[38;5;28mlen\u001b[39m(A[\u001b[38;5;241m0\u001b[39m])\n\u001b[1;32m--> 252\u001b[0m L \u001b[38;5;241m=\u001b[39m [[\u001b[38;5;241m0.0\u001b[39m \u001b[38;5;28;01mfor\u001b[39;00m x \u001b[38;5;129;01min\u001b[39;00m \u001b[38;5;28mrange\u001b[39m(\u001b[38;5;241m0\u001b[39m,c)] \u001b[38;5;28;01mfor\u001b[39;00m y \u001b[38;5;129;01min\u001b[39;00m \u001b[38;5;28mrange\u001b[39m(\u001b[38;5;241m0\u001b[39m,r)]\n\u001b[0;32m    254\u001b[0m \u001b[38;5;28;01mfor\u001b[39;00m i \u001b[38;5;129;01min\u001b[39;00m \u001b[38;5;28mrange\u001b[39m(r):\n\u001b[0;32m    255\u001b[0m     \u001b[38;5;28;01mfor\u001b[39;00m k \u001b[38;5;129;01min\u001b[39;00m \u001b[38;5;28mrange\u001b[39m(i\u001b[38;5;241m+\u001b[39m\u001b[38;5;241m1\u001b[39m):\n",
      "File \u001b[1;32mc:\\Users\\soham\\PythonWorks\\LearnFolder\\computational_course\\ComputationalCourse\\library\\library.py:220\u001b[0m, in \u001b[0;36mLU_decomposition_\u001b[1;34m(matrix)\u001b[0m\n\u001b[0;32m    214\u001b[0m \u001b[38;5;28;01mfor\u001b[39;00m i \u001b[38;5;129;01min\u001b[39;00m \u001b[38;5;28mrange\u001b[39m(\u001b[38;5;28mlen\u001b[39m(matrix)):\n\u001b[0;32m    217\u001b[0m     L[i][i] \u001b[38;5;241m=\u001b[39m \u001b[38;5;241m1\u001b[39m\n\u001b[1;32m--> 220\u001b[0m     \u001b[38;5;28;01mfor\u001b[39;00m k \u001b[38;5;129;01min\u001b[39;00m \u001b[38;5;28mrange\u001b[39m(i, \u001b[38;5;28mlen\u001b[39m(matrix[\u001b[38;5;241m0\u001b[39m])):\n\u001b[0;32m    221\u001b[0m         \u001b[38;5;28msum\u001b[39m \u001b[38;5;241m=\u001b[39m \u001b[38;5;241m0\u001b[39m\n\u001b[0;32m    222\u001b[0m         \u001b[38;5;28;01mfor\u001b[39;00m j \u001b[38;5;129;01min\u001b[39;00m \u001b[38;5;28mrange\u001b[39m(i): \n",
      "\u001b[1;31mIndexError\u001b[0m: list assignment index out of range"
     ]
    }
   ],
   "source": [
    "M = np.array(load_matrix('testmatrix.txt'))\n",
    "matrix_inverse(M)"
   ]
  }
 ],
 "metadata": {
  "kernelspec": {
   "display_name": "Python 3",
   "language": "python",
   "name": "python3"
  },
  "language_info": {
   "codemirror_mode": {
    "name": "ipython",
    "version": 3
   },
   "file_extension": ".py",
   "mimetype": "text/x-python",
   "name": "python",
   "nbconvert_exporter": "python",
   "pygments_lexer": "ipython3",
   "version": "3.9.13"
  }
 },
 "nbformat": 4,
 "nbformat_minor": 2
}
