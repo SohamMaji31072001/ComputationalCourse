{
 "cells": [
  {
   "cell_type": "markdown",
   "metadata": {},
   "source": [
    "# MIDSEM Exam\n",
    "# Soham Maji\n",
    "# Roll - 2011162\n",
    "P452, Date-22/02/2024"
   ]
  },
  {
   "cell_type": "markdown",
   "metadata": {},
   "source": [
    "Used functions are called from librarry and also attached with each solutions for direct reference"
   ]
  },
  {
   "cell_type": "code",
   "execution_count": 27,
   "metadata": {},
   "outputs": [],
   "source": [
    "import sys\n",
    "sys.path.append('../')\n",
    "from library import *\n",
    "import numpy as np\n",
    "import matplotlib.pyplot as plt\n",
    "import matplotlib.style\n",
    "matplotlib.style.use('fivethirtyeight')"
   ]
  },
  {
   "cell_type": "markdown",
   "metadata": {},
   "source": [
    "Question. 1"
   ]
  },
  {
   "cell_type": "code",
   "execution_count": 2,
   "metadata": {},
   "outputs": [],
   "source": [
    "def check_bracket(func, a, b, alpha):\n",
    "    if func(a)*func(b) > 0:\n",
    "        i = 0\n",
    "        while func(a)*func(b) > 0:\n",
    "            if func(a)<func(b):\n",
    "                a = a - alpha*abs(b-a)\n",
    "            else:\n",
    "                b = b + alpha*abs(b-a)\n",
    "            i = i+1\n",
    "            \n",
    "    return a, b\n",
    "\n",
    "# Regula-falsi method\n",
    "def regula_falsi(func, a_0, b_0, precision):\n",
    "    \n",
    "    I = []\n",
    "    val = []\n",
    "    \n",
    "    i = 0\n",
    "    if a_0 > b_0:\n",
    "        print('left element of the interval cannot be greater than right element')\n",
    "        return False\n",
    "    if func(a_0)*func(b_0) > 0:\n",
    "        a_0, b_0 = check_bracket(func, a_0, b_0, 1)\n",
    "\n",
    "    c = b_0 - ((b_0-a_0)*func(b_0))/(func(b_0)-func(a_0))\n",
    "    c_0 = 0\n",
    "    while abs(func(c))>precision:\n",
    "        \n",
    "        i = i+1\n",
    "        I.append(i)\n",
    "        c = b_0-((b_0-a_0)*func(b_0))/(func(b_0)-func(a_0))\n",
    "        val.append(c)\n",
    "        if  func(a_0)*func(c)<0:\n",
    "            b_0 = c\n",
    "        elif func(b_0)*func(c)<0:\n",
    "            a_0 = c\n",
    "            \n",
    "    return c, i, val, I\n",
    "\n",
    "\n",
    "# Newton-Raphson method\n",
    "def newton_raphson(func, dfunc, x_guess, precision):\n",
    "    x = x_guess - (func(x_guess)/dfunc(x_guess))\n",
    "    i = 0\n",
    "    counter = 0\n",
    "    while abs(x-x_guess) > precision:\n",
    "        i += 1\n",
    "        x_guess = x\n",
    "        x = x_guess - func(x_guess)/dfunc(x_guess)\n",
    "        counter = counter+1\n",
    "        if counter == 40000:\n",
    "            print(\"Warning:Iter Limit reached not converged\")\n",
    "            break\n",
    "    return x, i"
   ]
  },
  {
   "cell_type": "code",
   "execution_count": 3,
   "metadata": {},
   "outputs": [],
   "source": [
    "# define the fUnction to be solved\n",
    "def f_q1(x):\n",
    "    return np.log(x/2) - np.sin(5*x/2)\n",
    "\n",
    "def df_q1(x):\n",
    "    return (1/x) - (5/2)*(np.cos(5*x/2)) \n",
    "    \n",
    "Initial_guess = [1.5, 2.5]\n",
    "prec = 1e-6\n"
   ]
  },
  {
   "cell_type": "code",
   "execution_count": 55,
   "metadata": {},
   "outputs": [
    {
     "name": "stdout",
     "output_type": "stream",
     "text": [
      "The solution using regula-falsi 2.6231 within iteration value of 7\n",
      "The solution using newton raphson 2.6231 within iteration value of 4\n"
     ]
    }
   ],
   "source": [
    "# Using Regula-Falsi method:\n",
    "sol1, i1, val, I = regula_falsi(f_q1, 1.5, 2.5, prec)\n",
    "sol2, i2 = newton_raphson(f_q1, df_q1, 2.2, prec)\n",
    "print(f'The solution using regula-falsi {sol1:.4f} within iteration value of {i1}')\n",
    "print(f'The solution using newton raphson {sol2:.4f} within iteration value of {i2}')"
   ]
  },
  {
   "cell_type": "markdown",
   "metadata": {},
   "source": [
    "Q.2"
   ]
  },
  {
   "cell_type": "code",
   "execution_count": 6,
   "metadata": {},
   "outputs": [],
   "source": [
    "# The steps and algorithm to solve using RK shooting method is given below\n",
    "# runge kutta shooting method\n",
    "def RK_shooting(Func_d2ydx2, func_dydx, x0, y0, z0, xf, h):                         \n",
    "    x = [x0]\n",
    "    y = [y0]\n",
    "    z = [z0]\n",
    "    N = int((xf-x0)/h)\n",
    "    for i in range(N):        \n",
    "        k1 = h * func_dydx(x[i], y[i], z[i])\n",
    "        l1 = h * Func_d2ydx2(x[i], y[i], z[i])\n",
    "        \n",
    "        k2 = h * func_dydx(x[i] + h/2, y[i] + k1/2, z[i] + l1/2)\n",
    "        l2 = h * Func_d2ydx2(x[i] + h/2, y[i] + k1/2, z[i] + l1/2)\n",
    "        \n",
    "        k3 = h * func_dydx(x[i] + h/2, y[i] + k2/2, z[i] + l2/2)\n",
    "        l3 = h * Func_d2ydx2(x[i] + h/2, y[i] + k2/2, z[i] + l2/2)\n",
    "        \n",
    "        k4 = h * func_dydx(x[i] + h, y[i] + k3, z[i] + l3)\n",
    "        l4 = h * Func_d2ydx2(x[i] + h, y[i] + k3, z[i] + l3)\n",
    "        \n",
    "        x.append(x[i] + h)\n",
    "        y.append(y[i] + (k1 + 2*k2 + 2*k3 + k4)/6)\n",
    "        z.append(z[i] + (l1 + 2*l2 + 2*l3 + l4)/6)\n",
    "    return x, y, z\n",
    "\n",
    "def Lagrange_interpol(zeta_h, zeta_l, yh, yl, y):                                            # Lagrange interpolation\n",
    "    zeta = zeta_l + (zeta_h - zeta_l) * (y - yl)/(yh - yl)\n",
    "    return zeta\n",
    "\n",
    "def RKshooting_method_solve(Func_d2ydx2, func_dydx, x0, y0, xf, yf, z1, z2, h, tol=1e-6):                 #Shooting method\n",
    "    x, y, z = RK_shooting(Func_d2ydx2, func_dydx, x0, y0, z1, xf, h)\n",
    "    yn = y[-1]\n",
    "    if abs(yn - yf) > tol:\n",
    "        if yn < yf:\n",
    "            zeta_l = z1\n",
    "            yl = yn\n",
    "            x, y, z = RK_shooting(Func_d2ydx2, func_dydx, x0, y0, z2, xf, h)\n",
    "            yn = y[-1]\n",
    "            if yn > yf:\n",
    "                zeta_h = z2\n",
    "                yh = yn\n",
    "                zeta = Lagrange_interpol(zeta_h, zeta_l, yh, yl, yf)\n",
    "                x, y, z = RK_shooting(Func_d2ydx2, func_dydx, x0, y0, zeta, xf, h)\n",
    "                return x, y\n",
    "            else:\n",
    "                print(\"Invalid bracketing.\")\n",
    "        elif yn > yf:\n",
    "            zeta_h = z1\n",
    "            yh = yn\n",
    "            x, y, z = RK_shooting(Func_d2ydx2, func_dydx, x0, y0, z2, xf, h)\n",
    "            yn = y[-1]\n",
    "            if yn < yf:\n",
    "                zeta_l = z2\n",
    "                yl = yn\n",
    "                zeta = Lagrange_interpol(zeta_h, zeta_l, yh, yl, yf)\n",
    "                x, y, z = RK_shooting(Func_d2ydx2, func_dydx, x0, y0, zeta, xf, h)\n",
    "                return x, y\n",
    "            else:\n",
    "                print(\"Invalid bracketig.\")\n",
    "    else:\n",
    "        return x, y"
   ]
  },
  {
   "cell_type": "code",
   "execution_count": 7,
   "metadata": {},
   "outputs": [
    {
     "name": "stdout",
     "output_type": "stream",
     "text": [
      "The value of x in length of the rod where the temperature is 100 degree is = 4.5 m\n"
     ]
    },
    {
     "data": {
      "text/plain": [
       "Text(0, 0.5, 'temperature (degree celsius)')"
      ]
     },
     "execution_count": 7,
     "metadata": {},
     "output_type": "execute_result"
    },
    {
     "data": {
      "image/png": "[encoded data removed]",
      "text/plain": [
       "<Figure size 640x480 with 1 Axes>"
      ]
     },
     "metadata": {},
     "output_type": "display_data"
    }
   ],
   "source": [
    "# defining the 1st and second derivative\n",
    "def dtdx_2(x, t, z):\n",
    "    return -0.01*(20-t)\n",
    "\n",
    "def dtdx(x, t, z):\n",
    "    return z\n",
    "\n",
    "# the constraints and constants values\n",
    "x = 0 # start position of the rod\n",
    "T = 40 # Temperature at x=0 \n",
    "x_f = 10\n",
    "T_f = 200\n",
    "h = 0.1\n",
    "tolerance = 1e-3\n",
    "\n",
    "# solving\n",
    "X_, T_ = RKshooting_method_solve(dtdx_2, dtdx, x, T, x_f, T_f, 10, 100, h, tolerance)\n",
    "for i in range(len(T_)):\n",
    "    if T_[i] >= 100:\n",
    "        post = i\n",
    "        break     \n",
    "print(\"The value of x in length of the rod where the temperature is 100 degree is =\", X_[post], 'm')\n",
    "\n",
    "#plot\n",
    "plt.scatter(X_, T_, color='red', s=8)\n",
    "plt.xlabel('x (position(m))')\n",
    "plt.ylabel('temperature (degree celsius)')"
   ]
  },
  {
   "cell_type": "markdown",
   "metadata": {},
   "source": [
    "Q.3"
   ]
  },
  {
   "cell_type": "code",
   "execution_count": 36,
   "metadata": {},
   "outputs": [
    {
     "data": {
      "image/png": "[encoded data removed]",
      "text/plain": [
       "<Figure size 640x480 with 1 Axes>"
      ]
     },
     "metadata": {},
     "output_type": "display_data"
    }
   ],
   "source": [
    "def heat_equation(T,l_x, n_x, l_t, n_t):\n",
    "    hx =l_x/n_x\n",
    "    ht = l_t/n_t\n",
    "    alpha = ht/(hx**2)\n",
    "    H0 = [0 for i in range(n_x+1)]\n",
    "    H1 = [0 for i in range(n_x+1)]\n",
    "    a = []\n",
    "\n",
    "    if alpha < 0.5:\n",
    "        for i in range(n_x+1):\n",
    "            H0[i] = (T(n_x, i))\n",
    "            a.append(i)\n",
    "\n",
    "    for j in range(0, 1000):\n",
    "        for i in range(1, n_x):\n",
    "            if i == 0:\n",
    "                H1[i] = (1 - 2*alpha)*H0[i] + alpha*H0[i+1]\n",
    "            elif i == n_x:\n",
    "                H1[i] = alpha*H0[i-1] + (1 - 2*alpha)*H0[i]\n",
    "\n",
    "            else:\n",
    "\n",
    "                H1[i] = alpha*H0[i-1] + (1 - 2*alpha)*H0[i] + alpha*H0[i+1]\n",
    "\n",
    "        for i in range(1, n_x):\n",
    "\n",
    "            H0[i] = H1[i]\n",
    "\n",
    "        if j == 0  or j == 5 or j == 10 or j == 50 or j == 100 or j == 500 or j == 1000:\n",
    "\n",
    "            plt.plot(a, H0)\n",
    "\n",
    "    plt.xlabel('x')\n",
    "    plt.ylabel('Temperature')\n",
    "    plt.show()\n",
    "\n",
    "# define the function for temperature\n",
    "def T_func(n_x, i):\n",
    "    if i == n_x/2:\n",
    "        T = 300\n",
    "    else:\n",
    "        T = 0\n",
    "    return T\n",
    "\n",
    "# solving and plotting the solution\n",
    "heat_equation(T_func, 2, 50, 20, 100000)\n"
   ]
  },
  {
   "cell_type": "markdown",
   "metadata": {},
   "source": [
    "Q.4"
   ]
  },
  {
   "cell_type": "code",
   "execution_count": 9,
   "metadata": {},
   "outputs": [],
   "source": [
    "# Given linear mass density of the beam:\n",
    "def Lambda(x):\n",
    "    return x**2\n",
    "\n",
    "# Total length of the beam\n",
    "L = 2 # in meters\n",
    "\n",
    "# define the numerator integral:\n",
    "def xLambda(x):\n",
    "    return x * x**2\n",
    "\n"
   ]
  },
  {
   "cell_type": "code",
   "execution_count": 10,
   "metadata": {},
   "outputs": [
    {
     "name": "stdout",
     "output_type": "stream",
     "text": [
      "The position of center of mass calculated using gaussian quadrature method = 1.5000 m\n"
     ]
    }
   ],
   "source": [
    "# Using gaussian quadrature method\n",
    "# Calculate the numerator and denominator integral using gaussian quad method:\n",
    "num_sol_ = gaussian_quad(xLambda, 0, L)\n",
    "denom_sol_ = gaussian_quad(Lambda, 0, L)\n",
    "\n",
    "x_pos = num_sol_/denom_sol_\n",
    "print(f'The position of center of mass calculated using gaussian quadrature method = {x_pos:.4f} m')"
   ]
  },
  {
   "cell_type": "markdown",
   "metadata": {},
   "source": [
    "Q.5"
   ]
  },
  {
   "cell_type": "code",
   "execution_count": 49,
   "metadata": {},
   "outputs": [],
   "source": [
    "# Load the coefficient matrix data\n",
    "Coeff = np.array(load_matrix('MidSemMatrixCoeffData.txt'))\n",
    "# constant matrix\n",
    "Const = [19, 2, 13, -7, -9, 2]"
   ]
  },
  {
   "cell_type": "code",
   "execution_count": 48,
   "metadata": {},
   "outputs": [
    {
     "name": "stdout",
     "output_type": "stream",
     "text": [
      "The solution array is given as:\n",
      "a1 = -1.7618\n",
      "a2 = 0.8962\n",
      "a3 = 4.0519\n",
      "a4 = -1.6171\n",
      "a5 = 2.0419\n",
      "a6 = 0.1518\n"
     ]
    }
   ],
   "source": [
    "matrix_sol = LU_decom_solve(Coeff, Const)\n",
    "print('The solution array is given as:')\n",
    "a = ['a1', 'a2', 'a3', 'a4', 'a5', 'a6']\n",
    "for i in range(len(a)):\n",
    "    print(f'{a[i]} = {matrix_sol[i]:.4f}')\n",
    "    "
   ]
  }
 ],
 "metadata": {
  "kernelspec": {
   "display_name": "Python 3",
   "language": "python",
   "name": "python3"
  },
  "language_info": {
   "codemirror_mode": {
    "name": "ipython",
    "version": 3
   },
   "file_extension": ".py",
   "mimetype": "text/x-python",
   "name": "python",
   "nbconvert_exporter": "python",
   "pygments_lexer": "ipython3",
   "version": "3.9.13"
  }
 },
 "nbformat": 4,
 "nbformat_minor": 2
}
